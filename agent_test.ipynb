{
 "cells": [
  {
   "cell_type": "markdown",
   "id": "7f2bcdc7",
   "metadata": {},
   "source": [
    "## Agent Initiation Tests"
   ]
  },
  {
   "cell_type": "markdown",
   "id": "9f372280",
   "metadata": {},
   "source": [
    "Load the environment variables with groq api key\n",
    "Declare api key as **GROQ_API_KEY** in .env file"
   ]
  },
  {
   "cell_type": "code",
   "execution_count": 1,
   "id": "46d050ff",
   "metadata": {},
   "outputs": [
    {
     "data": {
      "text/plain": [
       "True"
      ]
     },
     "execution_count": 1,
     "metadata": {},
     "output_type": "execute_result"
    }
   ],
   "source": [
    "from dotenv import load_dotenv\n",
    "load_dotenv('.env', override=True)"
   ]
  },
  {
   "cell_type": "code",
   "execution_count": 2,
   "id": "8dfe0819",
   "metadata": {},
   "outputs": [],
   "source": [
    "from langchain.chat_models import init_chat_model\n",
    "\n",
    "llm_groq = init_chat_model('groq:llama-3.1-8b-instant',temperature = 0)"
   ]
  },
  {
   "cell_type": "code",
   "execution_count": 3,
   "id": "fd2a2207",
   "metadata": {},
   "outputs": [
    {
     "name": "stdout",
     "output_type": "stream",
     "text": [
      "Not much, just here to help with any questions or topics you'd like to discuss. How's your day going so far?\n"
     ]
    }
   ],
   "source": [
    "result = llm_groq.invoke(\"Hey what's up!\")\n",
    "print(result.content) # Should print the response from the model"
   ]
  },
  {
   "cell_type": "code",
   "execution_count": 4,
   "id": "9ef1f3a2",
   "metadata": {},
   "outputs": [
    {
     "name": "stdout",
     "output_type": "stream",
     "text": [
      "content=\"Not much, just here to help with any questions or topics you'd like to discuss. How's your day going so far?\" additional_kwargs={} response_metadata={'token_usage': {'completion_tokens': 27, 'prompt_tokens': 40, 'total_tokens': 67, 'completion_time': 0.021923437, 'prompt_time': 0.008518083, 'queue_time': 0.454296736, 'total_time': 0.03044152}, 'model_name': 'llama-3.1-8b-instant', 'system_fingerprint': 'fp_510c177af0', 'service_tier': 'on_demand', 'finish_reason': 'stop', 'logprobs': None} id='run--c11dc8c0-a96e-4f33-ae6a-b6a23dc50c08-0' usage_metadata={'input_tokens': 40, 'output_tokens': 27, 'total_tokens': 67}\n"
     ]
    }
   ],
   "source": [
    "print(result)"
   ]
  },
  {
   "cell_type": "markdown",
   "id": "c1442c77",
   "metadata": {},
   "source": [
    "# Tool calling Langchain"
   ]
  },
  {
   "cell_type": "code",
   "execution_count": 5,
   "id": "ec7dee07",
   "metadata": {},
   "outputs": [
    {
     "data": {
      "text/plain": [
       "langchain_core.tools.structured.StructuredTool"
      ]
     },
     "execution_count": 5,
     "metadata": {},
     "output_type": "execute_result"
    }
   ],
   "source": [
    "from langchain.tools import tool\n",
    "\n",
    "@tool\n",
    "def add_numbers(a:int, b:int) -> int:\n",
    "    \"\"\"Function to add two numbers\"\"\"\n",
    "    return(a+b)\n",
    "\n",
    "type(add_numbers)"
   ]
  },
  {
   "cell_type": "code",
   "execution_count": 6,
   "id": "29f661e3",
   "metadata": {},
   "outputs": [
    {
     "data": {
      "text/plain": [
       "{'a': {'title': 'A', 'type': 'integer'},\n",
       " 'b': {'title': 'B', 'type': 'integer'}}"
      ]
     },
     "execution_count": 6,
     "metadata": {},
     "output_type": "execute_result"
    }
   ],
   "source": [
    "add_numbers.args"
   ]
  },
  {
   "cell_type": "markdown",
   "id": "c54f31e8",
   "metadata": {},
   "source": [
    "# Tool Binding with Langchain"
   ]
  },
  {
   "cell_type": "code",
   "execution_count": 7,
   "id": "0bf4abb2",
   "metadata": {},
   "outputs": [
    {
     "name": "stdout",
     "output_type": "stream",
     "text": [
      "content='' additional_kwargs={'tool_calls': [{'id': '9nq4b3n2e', 'function': {'arguments': '{\"a\":5,\"b\":2}', 'name': 'add_numbers'}, 'type': 'function'}]} response_metadata={'token_usage': {'completion_tokens': 17, 'prompt_tokens': 242, 'total_tokens': 259, 'completion_time': 0.026295997, 'prompt_time': 0.033284724, 'queue_time': 0.218807561, 'total_time': 0.059580721}, 'model_name': 'llama-3.1-8b-instant', 'system_fingerprint': 'fp_510c177af0', 'service_tier': 'on_demand', 'finish_reason': 'tool_calls', 'logprobs': None} id='run--842cdb54-8c46-4bf9-a189-75c2db891fb6-0' tool_calls=[{'name': 'add_numbers', 'args': {'a': 5, 'b': 2}, 'id': '9nq4b3n2e', 'type': 'tool_call'}] usage_metadata={'input_tokens': 242, 'output_tokens': 17, 'total_tokens': 259}\n"
     ]
    }
   ],
   "source": [
    "model_with_tools = llm_groq.bind_tools([add_numbers], tool_choice =\"any\")\n",
    "output = model_with_tools.invoke(\"What is 5 + 2?\")\n",
    "print(output)"
   ]
  },
  {
   "cell_type": "code",
   "execution_count": 8,
   "id": "cd03fcaf",
   "metadata": {},
   "outputs": [
    {
     "data": {
      "text/plain": [
       "{'a': 5, 'b': 2}"
      ]
     },
     "execution_count": 8,
     "metadata": {},
     "output_type": "execute_result"
    }
   ],
   "source": [
    "args = output.tool_calls[0]['args']\n",
    "args"
   ]
  },
  {
   "cell_type": "code",
   "execution_count": 9,
   "id": "78c608a4",
   "metadata": {},
   "outputs": [
    {
     "name": "stdout",
     "output_type": "stream",
     "text": [
      "7\n"
     ]
    }
   ],
   "source": [
    "result = add_numbers.invoke(args)\n",
    "print(result)"
   ]
  },
  {
   "cell_type": "markdown",
   "id": "3ce428f0",
   "metadata": {},
   "source": [
    "# LangGraph Function testing/Re-learning"
   ]
  },
  {
   "cell_type": "code",
   "execution_count": 10,
   "id": "cdf3f3a5",
   "metadata": {},
   "outputs": [],
   "source": [
    "from typing import Dict, TypedDict\n",
    "from langgraph.graph import StateGraph\n",
    "\n",
    "class AgentState(TypedDict): # Define class of the graph and parameters datatype and co-rellation\n",
    "    message: str\n",
    "    \n",
    "def greeting_node(state: AgentState) -> AgentState:\n",
    "    \"\"\"Simple function/node to greet the user\"\"\"\n",
    "    \n",
    "    state['message'] = \"Hey \" + state[\"message\"] + \" how is your day going?\"\n",
    "    \n",
    "    return state\n"
   ]
  },
  {
   "cell_type": "code",
   "execution_count": 11,
   "id": "ca4a9c09",
   "metadata": {},
   "outputs": [],
   "source": [
    "graph = StateGraph(AgentState)\n",
    "\n",
    "graph.add_node(\"Greeter\", greeting_node)\n",
    "\n",
    "graph.set_entry_point(\"Greeter\")\n",
    "graph.set_finish_point(\"Greeter\")\n",
    "\n",
    "app = graph.compile()"
   ]
  },
  {
   "cell_type": "code",
   "execution_count": 12,
   "id": "bf8f0965",
   "metadata": {},
   "outputs": [
    {
     "data": {
      "image/png": "[encoded data removed]",
      "text/plain": [
       "<IPython.core.display.Image object>"
      ]
     },
     "metadata": {},
     "output_type": "display_data"
    }
   ],
   "source": [
    "# Remember this as you are gonna use this mermaid function a lot to visualize\n",
    "\n",
    "from IPython.display import display, Image\n",
    "display(Image(app.get_graph().draw_mermaid_png()))"
   ]
  },
  {
   "cell_type": "code",
   "execution_count": 13,
   "id": "1f9a7589",
   "metadata": {},
   "outputs": [],
   "source": [
    "result = app.invoke(AgentState(message=\"Gideon\"))"
   ]
  },
  {
   "cell_type": "code",
   "execution_count": 14,
   "id": "bb96f5b1",
   "metadata": {},
   "outputs": [
    {
     "data": {
      "text/plain": [
       "'Hey Gideon how is your day going?'"
      ]
     },
     "execution_count": 14,
     "metadata": {},
     "output_type": "execute_result"
    }
   ],
   "source": [
    "result[\"message\"]"
   ]
  },
  {
   "cell_type": "markdown",
   "id": "1e259293",
   "metadata": {},
   "source": [
    "# Test 2 (Exercise, Compliment Agent)"
   ]
  },
  {
   "cell_type": "code",
   "execution_count": 15,
   "id": "5b7bafe5",
   "metadata": {},
   "outputs": [
    {
     "name": "stdout",
     "output_type": "stream",
     "text": [
      "Gideon, you're doing an amazing job learning LangGraph!\n"
     ]
    }
   ],
   "source": [
    "from typing import TypedDict, Dict\n",
    "from langgraph.graph import StateGraph\n",
    "\n",
    "class StateAgent(TypedDict): # Defining Agent state for carry-forward\n",
    "    compliments: str\n",
    "    \n",
    "def complimenting_node(state:StateAgent) -> StateAgent:\n",
    "    \"\"\" Function to compliment the user \"\"\"\n",
    "    state[\"compliments\"] = state[\"compliments\"] + \",\" + \" you're doing an amazing job learning LangGraph!\"\n",
    "    \n",
    "    return state\n",
    "\n",
    "graph = StateGraph(StateAgent)\n",
    "\n",
    "graph.add_node(\"Complimenter\", complimenting_node)\n",
    "\n",
    "graph.set_entry_point(\"Complimenter\")\n",
    "graph.set_finish_point(\"Complimenter\")\n",
    "\n",
    "app = graph.compile()\n",
    "\n",
    "result = app.invoke(StateAgent(compliments=\"Gideon\"))\n",
    "\n",
    "print(result[\"compliments\"])\n",
    "\n",
    "    "
   ]
  },
  {
   "cell_type": "markdown",
   "id": "42637591",
   "metadata": {},
   "source": [
    "# Test Graph 3 (Multiple Inputs Graph)"
   ]
  },
  {
   "cell_type": "code",
   "execution_count": 16,
   "id": "0f2ae967",
   "metadata": {},
   "outputs": [
    {
     "name": "stdout",
     "output_type": "stream",
     "text": [
      "Hi Gideon, your answer is 120\n"
     ]
    },
    {
     "data": {
      "image/png": "[encoded data removed]",
      "text/plain": [
       "<IPython.core.display.Image object>"
      ]
     },
     "metadata": {},
     "output_type": "display_data"
    }
   ],
   "source": [
    "from typing import TypedDict\n",
    "from langgraph.graph import StateGraph\n",
    "\n",
    "class MultiInputAgent(TypedDict):\n",
    "    name:str\n",
    "    values: list[int]\n",
    "    operation: str\n",
    "    result: str\n",
    "    \n",
    "def Processor_node(state:MultiInputAgent) -> MultiInputAgent:\n",
    "    \"\"\" Function to process Multiple type of inputs \"\"\"\n",
    "    if state[\"operation\"] == \"+\":\n",
    "        state[\"values\"] = sum(state[\"values\"])\n",
    "    elif state[\"operation\"] == \"*\":\n",
    "        product = 1\n",
    "        for value in state[\"values\"]:\n",
    "            product *= value\n",
    "        state[\"values\"] = product\n",
    "        \n",
    "    state[\"result\"] = \"Hi \" + state[\"name\"] + \", your answer is \" + str(state[\"values\"])\n",
    "    \n",
    "    return state\n",
    "\n",
    "graph = StateGraph(MultiInputAgent)\n",
    "graph.add_node(\"processor\", Processor_node)\n",
    "graph.set_entry_point(\"processor\")\n",
    "graph.set_finish_point(\"processor\")\n",
    "\n",
    "app = graph.compile()\n",
    "\n",
    "result = app.invoke(MultiInputAgent(name=\"Gideon\", values = [1,2,3,4,5], operation = \"*\"))\n",
    "\n",
    "print(result[\"result\"])\n",
    "\n",
    "display(Image(app.get_graph().draw_mermaid_png()))\n",
    "\n",
    "      "
   ]
  },
  {
   "cell_type": "markdown",
   "id": "762057d3",
   "metadata": {},
   "source": [
    "# Test Graph 4 (Sequential Graph AKA Join Multiple nodes and States)"
   ]
  },
  {
   "cell_type": "code",
   "execution_count": 17,
   "id": "a7525583",
   "metadata": {},
   "outputs": [
    {
     "name": "stdout",
     "output_type": "stream",
     "text": [
      "{'name': 'Gideon', 'age': '25', 'final': 'Hi Gideon You are 25 years old'}\n"
     ]
    }
   ],
   "source": [
    "from typing import TypedDict, Dict\n",
    "from langgraph.graph import StateGraph\n",
    "\n",
    "class AgentState(TypedDict):\n",
    "    name:str\n",
    "    age:str\n",
    "    final:str\n",
    "    \n",
    "def first_node(state:AgentState) -> AgentState:\n",
    "    \"\"\" First node to attach to the graph\"\"\"\n",
    "    \n",
    "    state[\"final\"] = f\"Hi \" + state[\"name\"]\n",
    "    \n",
    "    return state\n",
    "\n",
    "def second_node(state:AgentState) -> AgentState:\n",
    "    \"\"\"This is the second node to be attached\"\"\"\n",
    "    \n",
    "    state[\"final\"] = state[\"final\"] + f\" You are \" + state[\"age\"] + \" years old\"\n",
    "    \n",
    "    return state\n",
    "\n",
    "graph = StateGraph(AgentState)\n",
    "graph.add_node(\"first_node\", first_node)\n",
    "graph.add_node(\"second_node\", second_node)\n",
    "\n",
    "graph.set_entry_point(\"first_node\")\n",
    "\n",
    "# As there are 2 nodes we set an edge\n",
    "graph.add_edge(\"first_node\", \"second_node\")\n",
    "graph.set_finish_point(\"second_node\")\n",
    "app = graph.compile()\n",
    "\n",
    "result = app.invoke(AgentState(name=\"Gideon\", age=\"25\"))\n",
    "print(result)\n",
    "    "
   ]
  },
  {
   "cell_type": "markdown",
   "id": "66a3ef13",
   "metadata": {},
   "source": [
    "# Exercise for Graph 4 (Sequential Graph, Edges, Multiple nodes, Result:str)"
   ]
  },
  {
   "cell_type": "code",
   "execution_count": 18,
   "id": "85895d73",
   "metadata": {},
   "outputs": [],
   "source": [
    "from typing import TypedDict\n",
    "from langgraph.graph import StateGraph\n",
    "\n",
    "class AgentState(TypedDict):\n",
    "    name: str\n",
    "    age: str\n",
    "    skills : list[str]\n",
    "    result: str\n",
    "    \n",
    "def first_node(state: AgentState) -> AgentState:\n",
    "    \"\"\" First node to attach a greeting\"\"\"\n",
    "    state[\"result\"] = state[\"name\"] + \", welcome to the system!\"\n",
    "    return state\n",
    "\n",
    "def second_node(state:AgentState) -> AgentState:\n",
    "    \"\"\"Attach the user's age\"\"\"\n",
    "    \n",
    "    state[\"result\"] = state[\"result\"] + \" You are \" + state[\"age\"] +\" years old!\"\n",
    "    return state\n",
    "\n",
    "def third_node(state:AgentState) -> AgentState:\n",
    "    \"\"\"This node appends the user's skills\"\"\"\n",
    "    \n",
    "    state[\"result\"] = state[\"result\"] + \" You have skills in: \" + \", \".join(state[\"skills\"]) + \".\"\n",
    "    return state\n",
    "\n",
    "graph = StateGraph(AgentState)\n",
    "\n",
    "graph.add_node(\"first_node\", first_node)\n",
    "graph.add_node(\"second_node\", second_node)\n",
    "graph.add_node(\"third_node\", third_node)\n",
    "\n",
    "graph.set_entry_point(\"first_node\")\n",
    "graph.add_edge(\"first_node\", \"second_node\")\n",
    "graph.add_edge(\"second_node\", \"third_node\")\n",
    "graph.set_finish_point(\"third_node\")\n",
    "\n",
    "app = graph.compile()\n"
   ]
  },
  {
   "cell_type": "code",
   "execution_count": 19,
   "id": "d1c039e2",
   "metadata": {},
   "outputs": [
    {
     "data": {
      "image/png": "[encoded data removed]",
      "text/plain": [
       "<IPython.core.display.Image object>"
      ]
     },
     "metadata": {},
     "output_type": "display_data"
    }
   ],
   "source": [
    "display(Image(app.get_graph().draw_mermaid_png()))"
   ]
  },
  {
   "cell_type": "code",
   "execution_count": 20,
   "id": "41af4536",
   "metadata": {},
   "outputs": [
    {
     "name": "stdout",
     "output_type": "stream",
     "text": [
      "{'name': 'Gideon', 'age': '25', 'skills': ['Python', 'Machine Learning', 'LangGraph'], 'result': 'Gideon, welcome to the system! You are 25 years old! You have skills in: Python, Machine Learning, LangGraph.'}\n"
     ]
    }
   ],
   "source": [
    "result = app.invoke(AgentState(name=\"Gideon\", age=\"25\", skills=[\"Python\", \"Machine Learning\", \"LangGraph\"]))\n",
    "print(result)"
   ]
  },
  {
   "cell_type": "markdown",
   "id": "bc01f793",
   "metadata": {},
   "source": [
    "# Test Graph 5 (Conditional Graphs, Router Node, Start-> End Nodes, Conditional edges)"
   ]
  },
  {
   "cell_type": "code",
   "execution_count": 21,
   "id": "e6b68044",
   "metadata": {},
   "outputs": [
    {
     "name": "stdout",
     "output_type": "stream",
     "text": [
      "{'number1': 10, 'number2': 5, 'operation': '-', 'finalnumber': 5}\n"
     ]
    }
   ],
   "source": [
    "from typing import TypedDict\n",
    "from langgraph.graph import StateGraph, START, END\n",
    "\n",
    "class AgentState(TypedDict):\n",
    "    number1: int\n",
    "    number2: int\n",
    "    operation: str\n",
    "    finalnumber: int\n",
    "    \n",
    "def adder(state:AgentState) -> AgentState:\n",
    "    \"\"\" Function to add 2 numbers\"\"\"\n",
    "    state[\"finalnumber\"] = state[\"number1\"] + state[\"number2\"]\n",
    "    return state\n",
    "\n",
    "def subtractor(state:AgentState) -> AgentState:\n",
    "    \"\"\" Function to subtract 2 numbers\"\"\"\n",
    "    state[\"finalnumber\"] = state[\"number1\"] - state[\"number2\"]\n",
    "    return state  \n",
    "\n",
    "def decide_node(state:AgentState):\n",
    "    \"\"\"Function to decide which operation to perform to act as router\"\"\"\n",
    "    \n",
    "    if state[\"operation\"] == \"+\":\n",
    "        return \"addition operation\"\n",
    "    if state[\"operation\"] == \"-\":\n",
    "        return \"subtraction operation\"\n",
    "\n",
    "\n",
    "graph = StateGraph(AgentState)\n",
    "\n",
    "# Declare the functions/ nodes to be used in the graph\n",
    "graph.add_node(\"router\", lambda state:state) # Declaring that router node won't affect the state, and state remains same\n",
    "graph.add_node(\"addition\", adder)   \n",
    "graph.add_node(\"subtraction\", subtractor)\n",
    "\n",
    "# Start mapping the flow using edges\n",
    "\n",
    "graph.add_edge(START, \"router\")\n",
    "graph.add_conditional_edges(\n",
    "    \"router\", \n",
    "    decide_node,\n",
    "    {  # Map the return values to the respective nodes              \n",
    "        \"addition operation\": \"addition\",\n",
    "        \"subtraction operation\" : \"subtraction\"   \n",
    "    }    \n",
    ")\n",
    "\n",
    "graph.add_edge(\"addition\", END)\n",
    "graph.add_edge(\"subtraction\", END)\n",
    "\n",
    "app = graph.compile()\n",
    "\n",
    "result = app.invoke(AgentState(number1=10,number2=5, operation=\"-\"))\n",
    "print(result)\n"
   ]
  },
  {
   "cell_type": "code",
   "execution_count": 22,
   "id": "4908f446",
   "metadata": {},
   "outputs": [
    {
     "data": {
      "image/png": "[encoded data removed]",
      "text/plain": [
       "<IPython.core.display.Image object>"
      ]
     },
     "metadata": {},
     "output_type": "display_data"
    }
   ],
   "source": [
    "display(Image(app.get_graph(). draw_mermaid_png()))"
   ]
  },
  {
   "cell_type": "markdown",
   "id": "fda9b6ba",
   "metadata": {},
   "source": [
    "# Exercise Graph 5 (Double routing Multiple nodes)"
   ]
  },
  {
   "cell_type": "code",
   "execution_count": 23,
   "id": "88be4eb1",
   "metadata": {},
   "outputs": [],
   "source": [
    "# basically create 2 routers for 2 operations\n",
    "\n",
    "from typing import TypedDict\n",
    "from langgraph.graph import StateGraph, START, END\n",
    "\n",
    "class AgentState(TypedDict):\n",
    "    number1: int\n",
    "    number2: int\n",
    "    number3: int\n",
    "    number4: int\n",
    "    operation1: str\n",
    "    operation2: str\n",
    "    finalnumber1: int\n",
    "    finalnumber2: int\n",
    "    \n",
    "    \n",
    "def add_node(state:AgentState) -> AgentState:\n",
    "    \"\"\"Function to add 2 numbers\"\"\"\n",
    "    state[\"finalnumber1\"] =  state[\"number1\"] + state[\"number2\"]\n",
    "    return state\n",
    "\n",
    "def subtract_node(state:AgentState) -> AgentState:\n",
    "    \"\"\" Function to subtract 2 numbers\"\"\"\n",
    "    state[\"finalnumber1\"] = state[\"number1\"] - state[\"number2\"]\n",
    "    return state  \n",
    "\n",
    "def add_node2(state:AgentState) -> AgentState:\n",
    "    \"\"\"Function to add 2 numbers node 2\"\"\"\n",
    "    state[\"finalnumber2\"] =  state[\"number3\"] + state[\"number4\"]\n",
    "    return state\n",
    "\n",
    "def subtract_node2(state:AgentState) -> AgentState:\n",
    "    \"\"\" Function to subtract 2 numbers node 2\"\"\"\n",
    "    state[\"finalnumber2\"] = state[\"number3\"] - state[\"number4\"]\n",
    "    return state  \n",
    "\n",
    "def decide_node(state:AgentState):\n",
    "    \"\"\"Function to decide which operation to perform to act as router1\"\"\"\n",
    "    \n",
    "    if state[\"operation1\"] == \"+\":\n",
    "        return \"addition_operation1\"\n",
    "    if state[\"operation1\"] == \"-\":\n",
    "        return \"subtraction_operation1\"\n",
    "    \n",
    "def decide_node2(state:AgentState):\n",
    "    \"\"\"Function to decide which operation to perform to act as router2\"\"\"\n",
    "    \n",
    "    if state[\"operation2\"] == \"+\":\n",
    "        return \"addition_operation2\"\n",
    "    if state[\"operation2\"] == \"-\":\n",
    "        return \"subtraction_operation2\"\n",
    "    \n",
    "graph = StateGraph(AgentState)\n",
    "graph.add_node(\"router1\", lambda state:state) # Declaring that router node won't affect the state, and state remains same\n",
    "graph.add_node(\"router2\", lambda state:state) # Declaring that router node won't affect the state, and state remains same\n",
    "graph.add_node(\"addition1\", add_node)\n",
    "graph.add_node(\"addition2\", add_node2)\n",
    "graph.add_node(\"subtraction1\", subtract_node)\n",
    "graph.add_node(\"subtraction2\", subtract_node2)\n",
    "\n",
    "# Start mapping the flow using edges\n",
    "graph.add_edge(START, \"router1\")\n",
    "graph.add_conditional_edges(\n",
    "    \"router1\",\n",
    "    decide_node,\n",
    "    {\n",
    "        \"addition_operation1\": \"addition1\",\n",
    "        \"subtraction_operation1\": \"subtraction1\"\n",
    "    }\n",
    ")\n",
    "graph.add_edge(\"addition1\", \"router2\")\n",
    "graph.add_edge(\"subtraction1\", \"router2\")\n",
    "graph.add_conditional_edges(\n",
    "    \"router2\",\n",
    "    decide_node2,\n",
    "    {\n",
    "        \"addition_operation2\": \"addition2\",\n",
    "        \"subtraction_operation2\": \"subtraction2\"\n",
    "    }\n",
    ")\n",
    "graph.add_edge(\"addition2\", END)\n",
    "graph.add_edge(\"subtraction2\", END)\n",
    "\n",
    "app = graph.compile()\n"
   ]
  },
  {
   "cell_type": "code",
   "execution_count": 24,
   "id": "f2744dfe",
   "metadata": {},
   "outputs": [
    {
     "data": {
      "image/png": "[encoded data removed]",
      "text/plain": [
       "<IPython.core.display.Image object>"
      ]
     },
     "metadata": {},
     "output_type": "display_data"
    }
   ],
   "source": [
    "display(Image(app.get_graph().draw_mermaid_png()))"
   ]
  },
  {
   "cell_type": "code",
   "execution_count": 25,
   "id": "55ad5b1d",
   "metadata": {},
   "outputs": [
    {
     "name": "stdout",
     "output_type": "stream",
     "text": [
      "{'number1': 10, 'number2': 5, 'number3': 300, 'number4': 100, 'operation1': '+', 'operation2': '-', 'finalnumber1': 15, 'finalnumber2': 200}\n"
     ]
    }
   ],
   "source": [
    "result = app.invoke(AgentState(number1=10, number2=5, number3 =300, number4 =100, operation1= \"+\", operation2 = \"-\"))\n",
    "print(result)"
   ]
  },
  {
   "cell_type": "markdown",
   "id": "6e4d150e",
   "metadata": {},
   "source": [
    "# Final Fundamental test Graph- 6 (Looping Graph)"
   ]
  },
  {
   "cell_type": "code",
   "execution_count": 26,
   "id": "2575c95f",
   "metadata": {},
   "outputs": [
    {
     "data": {
      "image/png": "[encoded data removed]",
      "text/plain": [
       "<IPython.core.display.Image object>"
      ]
     },
     "metadata": {},
     "output_type": "display_data"
    }
   ],
   "source": [
    "from langgraph.graph import StateGraph, START, END\n",
    "from typing import TypedDict\n",
    "import random\n",
    "\n",
    "class AgentState(TypedDict):\n",
    "    name: str\n",
    "    number: list[int]\n",
    "    counter:int\n",
    "    \n",
    "def greeting_node(state:AgentState) -> AgentState:\n",
    "    \"\"\" Node to greet the user\"\"\"\n",
    "    \n",
    "    state[\"name\"] = \"Hi There,\" + state[\"name\"] + \"!\"\n",
    "    state[\"counter\"] = 0\n",
    "    \n",
    "    return state\n",
    "\n",
    "def random_node(state:AgentState) -> AgentState:\n",
    "    \"\"\" Node to randomly select a number from random function\"\"\"\n",
    "    state[\"number\"].append(random.randint(0,10))\n",
    "    state[\"counter\"] +=1\n",
    "    \n",
    "    return state\n",
    "\n",
    "def should_continue_node(state:AgentState) -> str:\n",
    "    \"\"\" Node to decide whether to continue or not\"\"\"\n",
    "    \n",
    "    if state[\"counter\"] < 5:\n",
    "        print(\"Counter is less than 5, continuing...\")\n",
    "        return \"continue\"\n",
    "    else:\n",
    "        return \"stop\"\n",
    "     \n",
    "graph = StateGraph(AgentState)\n",
    "\n",
    "graph.add_node(\"greeting\", greeting_node)\n",
    "graph.add_node(\"random\", random_node)\n",
    "graph.add_edge(\"greeting\", \"random\")\n",
    "\n",
    "graph.add_conditional_edges(\n",
    "    \"random\",\n",
    "    should_continue_node,\n",
    "    {\n",
    "        \"continue\" : \"random\", # Self-Loop the node\n",
    "        \"stop\": END\n",
    "    }\n",
    ")\n",
    "graph.set_entry_point(\"greeting\")\n",
    "\n",
    "app = graph.compile()\n",
    "\n",
    "display(Image(app.get_graph().draw_mermaid_png()))\n",
    " "
   ]
  },
  {
   "cell_type": "markdown",
   "id": "bad1f94e",
   "metadata": {},
   "source": [
    "# Exercise 6 (Create a Higher/Lower Guessing Game in Langgraph)"
   ]
  },
  {
   "cell_type": "code",
   "execution_count": 27,
   "id": "1cede118",
   "metadata": {},
   "outputs": [
    {
     "data": {
      "image/png": "[encoded data removed]",
      "text/plain": [
       "<IPython.core.display.Image object>"
      ]
     },
     "metadata": {},
     "output_type": "display_data"
    }
   ],
   "source": [
    "from langgraph.graph import StateGraph, END\n",
    "import random\n",
    "from typing import Dict, List, TypedDict\n",
    "\n",
    "class GameState(TypedDict):\n",
    "    player_name: str\n",
    "    target_number: int\n",
    "    guesses: List[int]\n",
    "    attempts: int\n",
    "    hint: str\n",
    "    lower_bound: int \n",
    "    upper_bound: int \n",
    "    \n",
    "def setup_node(state: GameState) -> GameState:\n",
    "    \"\"\"Initialize the game with a random target number\"\"\"\n",
    "    state[\"player_name\"] = f\"Welcome, {state['player_name']}!\"\n",
    "    state[\"target_number\"] = random.randint(1, 20)\n",
    "    state[\"guesses\"] = []\n",
    "    state[\"attempts\"] = 0\n",
    "    state[\"hint\"] = \"Game started! Try to guess the number.\"\n",
    "    state[\"lower_bound\"] = 1 \n",
    "    state[\"upper_bound\"] = 20 \n",
    "    print(f\"{state['player_name']} The game has begun. I'm thinking of a number between 1 and 20.\")\n",
    "    return state\n",
    "\n",
    "def guess_node(state: GameState) -> GameState:\n",
    "    \"\"\"Generate a smarter guess based on previous hints\"\"\"\n",
    "    possible_guesses = []\n",
    "    \n",
    "    for i in range(state[\"lower_bound\"], state[\"upper_bound\"] + 1):\n",
    "        if i in state[\"guesses\"]:\n",
    "            continue\n",
    "        else:\n",
    "            possible_guesses.append(i)\n",
    "            \n",
    "    guess = random.choice(possible_guesses)\n",
    "\n",
    "    \n",
    "    state[\"guesses\"].append(guess)\n",
    "    state[\"attempts\"] += 1\n",
    "    print(f\"Attempt {state['attempts']}: Guessing {guess} (Current range: {state['lower_bound']}-{state['upper_bound']})\")\n",
    "    return state\n",
    "\n",
    "def hint_node(state: GameState) -> GameState:\n",
    "    \"\"\"Here we provide a hint based on the last guess and update the bounds\"\"\"\n",
    "    latest_guess = state[\"guesses\"][-1]\n",
    "    target = state[\"target_number\"]\n",
    "    \n",
    "    if latest_guess < target:\n",
    "        state[\"hint\"] = f\"The number {latest_guess} is too low. Try higher!\"\n",
    "        \n",
    "        state[\"lower_bound\"] = max(state[\"lower_bound\"], latest_guess + 1)\n",
    "        print(f\"Hint: {state['hint']}\")\n",
    "        \n",
    "    elif latest_guess > target:\n",
    "        state[\"hint\"] = f\"The number {latest_guess} is too high. Try lower!\"\n",
    "      \n",
    "        state[\"upper_bound\"] = min(state[\"upper_bound\"], latest_guess - 1)\n",
    "        print(f\"Hint: {state['hint']}\")\n",
    "    else:\n",
    "        state[\"hint\"] = f\"Correct! You found the number {target} in {state['attempts']} attempts.\"\n",
    "        print(f\"Success! {state['hint']}\")\n",
    "    \n",
    "    return state\n",
    "\n",
    "def should_continue(state: GameState) -> str:\n",
    "    \"\"\"Determine if we should continue guessing or end the game\"\"\"\n",
    "    \n",
    "    # There are 2 end conditions - either 7 is reached or the correct number is guessed\n",
    "    \n",
    "    latest_guess = state[\"guesses\"][-1]\n",
    "    if latest_guess == state[\"target_number\"]:\n",
    "        print(f\"GAME OVER: Number found!\")\n",
    "        return \"end\"\n",
    "    elif state[\"attempts\"] >= 7:\n",
    "        print(f\"GAME OVER: Maximum attempts reached! The number was {state['target_number']}\")\n",
    "        return \"end\"\n",
    "    else:\n",
    "        print(f\"CONTINUING: {state['attempts']}/7 attempts used\")\n",
    "        return \"continue\"\n",
    "    \n",
    "graph = StateGraph(GameState)\n",
    "graph.add_node(\"setup\", setup_node)\n",
    "graph.add_node(\"guess\", guess_node)\n",
    "graph.add_node(\"hint_node\", hint_node)  \n",
    "\n",
    "\n",
    "graph.add_edge(\"setup\", \"guess\")\n",
    "graph.add_edge(\"guess\", \"hint_node\")  \n",
    "\n",
    "\n",
    "graph.add_conditional_edges(\n",
    "    \"hint_node\", \n",
    "    should_continue,\n",
    "    {\n",
    "        \"continue\": \"guess\",\n",
    "        \"end\": END\n",
    "    }\n",
    ")\n",
    "\n",
    "graph.set_entry_point(\"setup\")\n",
    "app = graph.compile()\n",
    "from IPython.display import Image, display\n",
    "display(Image(app.get_graph().draw_mermaid_png()))"
   ]
  },
  {
   "cell_type": "code",
   "execution_count": 28,
   "id": "039581b8",
   "metadata": {},
   "outputs": [
    {
     "name": "stdout",
     "output_type": "stream",
     "text": [
      "Welcome, Gideon! The game has begun. I'm thinking of a number between 1 and 20.\n",
      "Attempt 1: Guessing 16 (Current range: 1-20)\n",
      "Hint: The number 16 is too low. Try higher!\n",
      "CONTINUING: 1/7 attempts used\n",
      "Attempt 2: Guessing 20 (Current range: 17-20)\n",
      "Hint: The number 20 is too high. Try lower!\n",
      "CONTINUING: 2/7 attempts used\n",
      "Attempt 3: Guessing 19 (Current range: 17-19)\n",
      "Hint: The number 19 is too high. Try lower!\n",
      "CONTINUING: 3/7 attempts used\n",
      "Attempt 4: Guessing 18 (Current range: 17-18)\n",
      "Hint: The number 18 is too high. Try lower!\n",
      "CONTINUING: 4/7 attempts used\n",
      "Attempt 5: Guessing 17 (Current range: 17-17)\n",
      "Success! Correct! You found the number 17 in 5 attempts.\n",
      "GAME OVER: Number found!\n"
     ]
    }
   ],
   "source": [
    "result = app.invoke(GameState(player_name = \"Gideon\", Guesses = [], attempts = 0, lower_bound = 1, upper_bound = 20))\n"
   ]
  },
  {
   "cell_type": "markdown",
   "id": "17ece79a",
   "metadata": {},
   "source": [
    "# Now that the fundamentals are covered for Langgraph lets code out an actual AI Agent"
   ]
  },
  {
   "cell_type": "markdown",
   "id": "efcb7914",
   "metadata": {},
   "source": [
    "# AI AGENTS!"
   ]
  },
  {
   "cell_type": "markdown",
   "id": "f2bacb28",
   "metadata": {},
   "source": [
    "# Groq Online LLM Test (Llama 8b-Instant via Groq)"
   ]
  },
  {
   "cell_type": "code",
   "execution_count": 29,
   "id": "2c1783fd",
   "metadata": {},
   "outputs": [],
   "source": [
    "from dotenv import load_dotenv\n",
    "from langchain.chat_models import init_chat_model\n",
    "from typing import TypedDict\n",
    "from langchain_core.messages import HumanMessage\n",
    "from langgraph.graph import StateGraph, START, END\n",
    "\n",
    "# Load GROQ_API_KEY from .env file\n",
    "load_dotenv('.env', override=True)\n",
    "\n",
    "class AgentState(TypedDict):\n",
    "    messages: list[HumanMessage]\n",
    "    \n",
    "# Define the llm and llm model\n",
    "llm_groq = init_chat_model('groq:llama-3.1-8b-instant',temperature = 0)\n",
    "\n",
    "def process(state: AgentState) -> AgentState:\n",
    "    \"\"\"Process the messages and generate a response\"\"\"\n",
    "    response = llm_groq.invoke(state[\"messages\"])\n",
    "    print(\"AI:\", response.content)\n",
    "    return state\n",
    "\n",
    "graph = StateGraph(AgentState)\n",
    "graph.add_node(\"process\", process)\n",
    "graph.add_edge(START, \"process\")\n",
    "graph.add_edge(\"process\", END)\n",
    "\n",
    "app = graph.compile()"
   ]
  },
  {
   "cell_type": "code",
   "execution_count": 30,
   "id": "bdf91820",
   "metadata": {},
   "outputs": [
    {
     "data": {
      "image/png": "[encoded data removed]",
      "text/plain": [
       "<IPython.core.display.Image object>"
      ]
     },
     "metadata": {},
     "output_type": "display_data"
    }
   ],
   "source": [
    "display(Image(app.get_graph().draw_mermaid_png()))"
   ]
  },
  {
   "cell_type": "code",
   "execution_count": 31,
   "id": "a989cf2d",
   "metadata": {},
   "outputs": [
    {
     "name": "stdout",
     "output_type": "stream",
     "text": [
      "AI: What's up?\n"
     ]
    },
    {
     "data": {
      "text/plain": [
       "{'messages': [HumanMessage(content='yo', additional_kwargs={}, response_metadata={})]}"
      ]
     },
     "execution_count": 31,
     "metadata": {},
     "output_type": "execute_result"
    }
   ],
   "source": [
    "user_input = input(\"Enter: \")\n",
    "app.invoke(AgentState(messages=[HumanMessage(content=user_input)]))"
   ]
  },
  {
   "cell_type": "markdown",
   "id": "eb3edc16",
   "metadata": {},
   "source": [
    "# 2 (Groq Memory Chatbot-Agent) using HumanMessage and AIMessage and simple variables to store context"
   ]
  },
  {
   "cell_type": "code",
   "execution_count": 32,
   "id": "cb821fad",
   "metadata": {},
   "outputs": [
    {
     "name": "stdout",
     "output_type": "stream",
     "text": [
      "AI: It seems like you forgot to ask a question. How can I assist you today?\n",
      "AI: It seems like you forgot to ask a question. How can I assist you today?\n",
      "AI: Is there something I can help you with or would you like to chat?\n",
      "AI: If you're feeling stuck, I can suggest some conversation topics. We could talk about:\n",
      "\n",
      " - Hobbies or interests\n",
      " - Travel or places you'd like to visit\n",
      " - Books or movies you've enjoyed\n",
      " - Or something else entirely\n",
      "\n",
      "Let me know if any of these spark your interest, or feel free to suggest your own topic.\n"
     ]
    }
   ],
   "source": [
    "from dotenv import load_dotenv\n",
    "from langchain.chat_models import init_chat_model\n",
    "from typing import TypedDict, List, Union\n",
    "from langchain_core.messages import HumanMessage, AIMessage\n",
    "from langgraph.graph import StateGraph, START, END\n",
    "\n",
    "# Load GROQ_API_KEY from .env file\n",
    "load_dotenv('.env', override=True)\n",
    "\n",
    "class AgentState(TypedDict):\n",
    "    messages: List[Union[HumanMessage, AIMessage]] # Basically storing Human and AImessage in a list instead of seperate variables\n",
    "\n",
    "def process(state: AgentState) -> AgentState:\n",
    "    \"\"\"Process the messages and generate a response\"\"\"\n",
    "    response = llm_groq.invoke(state[\"messages\"])\n",
    "    \n",
    "    state[\"messages\"].append(AIMessage(content=response.content))\n",
    "    print(\"AI:\", response.content)\n",
    "    \n",
    "    return state\n",
    "\n",
    "graph = StateGraph(AgentState)\n",
    "graph.add_node(\"process\", process)\n",
    "graph.add_edge(START, \"process\")\n",
    "graph.add_edge(\"process\", END)\n",
    "\n",
    "app = graph.compile()\n",
    "\n",
    "conversation_history = []\n",
    "\n",
    "user_input = input(\"Enter: \")\n",
    "\n",
    "while user_input != \"exit\":\n",
    "    conversation_history.append(HumanMessage(content=user_input))\n",
    "    result = app.invoke(AgentState(messages=conversation_history))\n",
    "    conversation_history = result[\"messages\"]\n",
    "    user_input = input(\"Enter: \")\n",
    "    "
   ]
  },
  {
   "cell_type": "markdown",
   "id": "b22a286e",
   "metadata": {},
   "source": [
    "## ReAct Agent  \n",
    "Industry-standard agent type for **reasoning + acting**.  \n",
    "\n",
    "## Tools in LangGraph  \n",
    "How to define and use tools with `ToolNode`.  \n",
    "\n",
    "## ReAct Graph  \n",
    "Building a reasoning workflow with `StateGraph`.  \n",
    "\n",
    "## Message Types  \n",
    "Work with `BaseMessage`, `ToolMessage`, and `SystemMessage`.  \n",
    "\n",
    "## System Messages  \n",
    "Define global context/instructions for agents.  "
   ]
  },
  {
   "cell_type": "code",
   "execution_count": 40,
   "id": "86668c96",
   "metadata": {},
   "outputs": [
    {
     "name": "stdout",
     "output_type": "stream",
     "text": [
      "================================\u001b[1m Human Message \u001b[0m=================================\n",
      "\n",
      "Add 700 + 21 and Multiply 100 times 459958\n",
      "==================================\u001b[1m Ai Message \u001b[0m==================================\n",
      "Tool Calls:\n",
      "  add (2fmczjmj5)\n",
      " Call ID: 2fmczjmj5\n",
      "  Args:\n",
      "    a: 700\n",
      "    b: 21\n",
      "  multiply (w2k3nqha8)\n",
      " Call ID: w2k3nqha8\n",
      "  Args:\n",
      "    a: 100\n",
      "    b: 459958\n",
      "=================================\u001b[1m Tool Message \u001b[0m=================================\n",
      "Name: multiply\n",
      "\n",
      "45995800\n",
      "==================================\u001b[1m Ai Message \u001b[0m==================================\n",
      "\n",
      "The results of the addition and multiplication are 721 and 45995800 respectively.\n"
     ]
    }
   ],
   "source": [
    "from typing import TypedDict, Sequence, Annotated\n",
    "from dotenv import load_dotenv\n",
    "from langchain_core.messages import BaseMessage # Foundational class for all messages\n",
    "from langchain_core.messages import ToolMessage # Sends Tool id's and tool content back to the llm\n",
    "from langchain_core.messages import SystemMessage # Defines the system message of the llm\n",
    "from langchain.chat_models import init_chat_model\n",
    "from langchain_core.tools import tool\n",
    "from langgraph.graph.message import add_messages\n",
    "from langgraph.graph import StateGraph, START, END\n",
    "from langgraph.prebuilt import ToolNode\n",
    "\n",
    "load_dotenv('.env', override=True)\n",
    "\n",
    "# Reducer function\n",
    "# Used to merge data from states\n",
    "# otherwise we overwrite entire state\n",
    "\n",
    "class AgentState(TypedDict):\n",
    "    messages: Annotated[Sequence[BaseMessage], add_messages]\n",
    "    \n",
    "    \n",
    "@tool\n",
    "def add(a:int , b:int):\n",
    "    \"\"\"This is an addition function that adds two numbers together\"\"\"\n",
    "    \n",
    "    return a + b\n",
    "\n",
    "@tool\n",
    "def multiply(a:int , b:int):\n",
    "    \"\"\"This is a multiplication function that multiplies two numbers together\"\"\"\n",
    "    \n",
    "    return a * b\n",
    "\n",
    "tools = [add,multiply]\n",
    "\n",
    "# initlize llama model\n",
    "llm_groq = init_chat_model('groq:llama-3.1-8b-instant',temperature = 0)\n",
    "\n",
    "# Use bind tools to bind tools to the llm\n",
    "llm_groq.bind_tools(tools)\n",
    "\n",
    "def model_call(state:AgentState) -> AgentState:\n",
    "    system_prompt = SystemMessage(content=\"You are my AI assistant, please answer my query to the best of your ability\")\n",
    "    response = llm_groq.invoke([system_prompt] + state [\"messages\"])\n",
    "    return {\"messages\": [response]}\n",
    "\n",
    "def should_continue(state: AgentState) -> str:\n",
    "    messages = state[\"messages\"]\n",
    "    last_message = messages[-1]\n",
    "    if not last_message.tool_calls:\n",
    "        return \"end\"\n",
    "    else:\n",
    "        return \"continue\"\n",
    "\n",
    "    \n",
    "# initialize graph\n",
    "\n",
    "graph = StateGraph(AgentState) \n",
    "graph.add_node(\"Gideon_Agent\", model_call)\n",
    "\n",
    "# initialzie Tool node\n",
    "tool_node = ToolNode(tools=tools)\n",
    "graph.add_node(\"tools\", tool_node)\n",
    "\n",
    "graph.set_entry_point(\"Gideon_Agent\")\n",
    "\n",
    "graph.add_conditional_edges(\n",
    "    \"Gideon_Agent\",\n",
    "    should_continue,\n",
    "    {\n",
    "        \"continue\": \"tools\",\n",
    "        \"end\": END,\n",
    "    },\n",
    ")\n",
    "graph.add_edge(\"tools\", \"Gideon_Agent\")\n",
    "\n",
    "app = graph.compile()\n",
    "\n",
    "def print_stream(stream):\n",
    "    for s in stream:\n",
    "        message = s[\"messages\"][-1]\n",
    "        if isinstance(message, tuple):\n",
    "            print(message)\n",
    "        else:\n",
    "            message.pretty_print()\n",
    "            \n",
    "# bind tools correctly\n",
    "llm_groq = init_chat_model('groq:llama-3.1-8b-instant', temperature=0)\n",
    "llm_groq = llm_groq.bind_tools(tools)\n",
    "\n",
    "# input\n",
    "from langchain_core.messages import HumanMessage\n",
    "inputs = {\"messages\": [HumanMessage(content=\"Add 700 + 21 and Multiply 100 times 459958\")]}\n",
    "print_stream(app.stream(inputs, stream_mode=\"values\"))"
   ]
  },
  {
   "cell_type": "code",
   "execution_count": 37,
   "id": "97661d50",
   "metadata": {},
   "outputs": [
    {
     "data": {
      "image/png": "[encoded data removed]",
      "text/plain": [
       "<IPython.core.display.Image object>"
      ]
     },
     "metadata": {},
     "output_type": "display_data"
    }
   ],
   "source": [
    "display(Image(app.get_graph().draw_mermaid_png()))"
   ]
  }
 ],
 "metadata": {
  "kernelspec": {
   "display_name": "Gideon_Agent",
   "language": "python",
   "name": "python3"
  },
  "language_info": {
   "codemirror_mode": {
    "name": "ipython",
    "version": 3
   },
   "file_extension": ".py",
   "mimetype": "text/x-python",
   "name": "python",
   "nbconvert_exporter": "python",
   "pygments_lexer": "ipython3",
   "version": "3.13.3"
  }
 },
 "nbformat": 4,
 "nbformat_minor": 5
}
