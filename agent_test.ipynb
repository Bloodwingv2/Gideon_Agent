{
 "cells": [
  {
   "cell_type": "markdown",
   "id": "7f2bcdc7",
   "metadata": {},
   "source": [
    "## Agent Initiation Tests"
   ]
  },
  {
   "cell_type": "markdown",
   "id": "9f372280",
   "metadata": {},
   "source": [
    "Load the environment variables with groq api key"
   ]
  },
  {
   "cell_type": "code",
   "execution_count": 1,
   "id": "46d050ff",
   "metadata": {},
   "outputs": [
    {
     "data": {
      "text/plain": [
       "True"
      ]
     },
     "execution_count": 1,
     "metadata": {},
     "output_type": "execute_result"
    }
   ],
   "source": [
    "from dotenv import load_dotenv\n",
    "load_dotenv('.env', override=True)"
   ]
  },
  {
   "cell_type": "code",
   "execution_count": 2,
   "id": "8dfe0819",
   "metadata": {},
   "outputs": [],
   "source": [
    "from langchain.chat_models import init_chat_model\n",
    "\n",
    "llm_groq = init_chat_model('groq:llama-3.1-8b-instant',temperature = 0)"
   ]
  },
  {
   "cell_type": "code",
   "execution_count": 3,
   "id": "fd2a2207",
   "metadata": {},
   "outputs": [
    {
     "name": "stdout",
     "output_type": "stream",
     "text": [
      "Not much, just here to help with any questions or topics you'd like to discuss. How's your day going so far?\n"
     ]
    }
   ],
   "source": [
    "result = llm_groq.invoke(\"Hey what's up!\")\n",
    "print(result.content) # Should print the response from the model"
   ]
  },
  {
   "cell_type": "code",
   "execution_count": 7,
   "id": "9ef1f3a2",
   "metadata": {},
   "outputs": [
    {
     "name": "stdout",
     "output_type": "stream",
     "text": [
      "content=\"Not much, just here to help with any questions or topics you'd like to discuss. How's your day going so far?\" additional_kwargs={} response_metadata={'token_usage': {'completion_tokens': 27, 'prompt_tokens': 40, 'total_tokens': 67, 'completion_time': 0.020478351, 'prompt_time': 0.006143241, 'queue_time': 0.139438791, 'total_time': 0.026621592}, 'model_name': 'llama-3.1-8b-instant', 'system_fingerprint': 'fp_c8fb515de2', 'service_tier': 'on_demand', 'finish_reason': 'stop', 'logprobs': None} id='run--9ba54d12-cfb0-4bac-b415-5eeb357448de-0' usage_metadata={'input_tokens': 40, 'output_tokens': 27, 'total_tokens': 67}\n"
     ]
    }
   ],
   "source": [
    "print(result)"
   ]
  },
  {
   "cell_type": "markdown",
   "id": "c1442c77",
   "metadata": {},
   "source": [
    "# Tool calling Langchain"
   ]
  },
  {
   "cell_type": "code",
   "execution_count": 9,
   "id": "ec7dee07",
   "metadata": {},
   "outputs": [
    {
     "data": {
      "text/plain": [
       "langchain_core.tools.structured.StructuredTool"
      ]
     },
     "execution_count": 9,
     "metadata": {},
     "output_type": "execute_result"
    }
   ],
   "source": [
    "from langchain.tools import tool\n",
    "\n",
    "@tool\n",
    "def add_numbers(a:int, b:int) -> int:\n",
    "    \"\"\"Function to add two numbers\"\"\"\n",
    "    return(a+b)\n",
    "\n",
    "type(add_numbers)"
   ]
  },
  {
   "cell_type": "code",
   "execution_count": 10,
   "id": "29f661e3",
   "metadata": {},
   "outputs": [
    {
     "data": {
      "text/plain": [
       "{'a': {'title': 'A', 'type': 'integer'},\n",
       " 'b': {'title': 'B', 'type': 'integer'}}"
      ]
     },
     "execution_count": 10,
     "metadata": {},
     "output_type": "execute_result"
    }
   ],
   "source": [
    "add_numbers.args"
   ]
  },
  {
   "cell_type": "markdown",
   "id": "c54f31e8",
   "metadata": {},
   "source": [
    "# Tool Binding with Langchain"
   ]
  },
  {
   "cell_type": "code",
   "execution_count": null,
   "id": "0bf4abb2",
   "metadata": {},
   "outputs": [
    {
     "name": "stdout",
     "output_type": "stream",
     "text": [
      "content='' additional_kwargs={'tool_calls': [{'id': '7zc5mgd8g', 'function': {'arguments': '{\"a\":5,\"b\":2}', 'name': 'add_numbers'}, 'type': 'function'}]} response_metadata={'token_usage': {'completion_tokens': 17, 'prompt_tokens': 242, 'total_tokens': 259, 'completion_time': 0.041566838, 'prompt_time': 0.100818023, 'queue_time': 0.044645997, 'total_time': 0.142384861}, 'model_name': 'llama-3.1-8b-instant', 'system_fingerprint': 'fp_c8fb515de2', 'service_tier': 'on_demand', 'finish_reason': 'tool_calls', 'logprobs': None} id='run--ebca78bc-aa78-4aad-9965-0bf4071d98eb-0' tool_calls=[{'name': 'add_numbers', 'args': {'a': 5, 'b': 2}, 'id': '7zc5mgd8g', 'type': 'tool_call'}] usage_metadata={'input_tokens': 242, 'output_tokens': 17, 'total_tokens': 259}\n"
     ]
    }
   ],
   "source": [
    "model_with_tools = llm_groq.bind_tools([add_numbers], tool_choice =\"any\")\n",
    "output = model_with_tools.invoke(\"What is 5 + 2?\")\n",
    "print(output)"
   ]
  },
  {
   "cell_type": "code",
   "execution_count": 14,
   "id": "cd03fcaf",
   "metadata": {},
   "outputs": [
    {
     "data": {
      "text/plain": [
       "{'a': 5, 'b': 2}"
      ]
     },
     "execution_count": 14,
     "metadata": {},
     "output_type": "execute_result"
    }
   ],
   "source": [
    "args = output.tool_calls[0]['args']\n",
    "args"
   ]
  },
  {
   "cell_type": "code",
   "execution_count": 15,
   "id": "78c608a4",
   "metadata": {},
   "outputs": [
    {
     "name": "stdout",
     "output_type": "stream",
     "text": [
      "7\n"
     ]
    }
   ],
   "source": [
    "result = add_numbers.invoke(args)\n",
    "print(result)"
   ]
  },
  {
   "cell_type": "markdown",
   "id": "3ce428f0",
   "metadata": {},
   "source": [
    "# LangGraph Function testing/Re-learning"
   ]
  },
  {
   "cell_type": "code",
   "execution_count": 13,
   "id": "cdf3f3a5",
   "metadata": {},
   "outputs": [],
   "source": [
    "from typing import Dict, TypedDict\n",
    "from langgraph.graph import StateGraph\n",
    "\n",
    "class AgentState(TypedDict): # Define class of the graph and parameters datatype and co-rellation\n",
    "    message: str\n",
    "    \n",
    "def greeting_node(state: AgentState) -> AgentState:\n",
    "    \"\"\"Simple function/node to greet the user\"\"\"\n",
    "    \n",
    "    state['message'] = \"Hey \" + state[\"message\"] + \" how is your day going?\"\n",
    "    \n",
    "    return state\n"
   ]
  },
  {
   "cell_type": "code",
   "execution_count": 14,
   "id": "ca4a9c09",
   "metadata": {},
   "outputs": [],
   "source": [
    "graph = StateGraph(AgentState)\n",
    "\n",
    "graph.add_node(\"Greeter\", greeting_node)\n",
    "\n",
    "graph.set_entry_point(\"Greeter\")\n",
    "graph.set_finish_point(\"Greeter\")\n",
    "\n",
    "app = graph.compile()"
   ]
  },
  {
   "cell_type": "code",
   "execution_count": 15,
   "id": "bf8f0965",
   "metadata": {},
   "outputs": [
    {
     "data": {
      "image/png": "[encoded data removed]",
      "text/plain": [
       "<IPython.core.display.Image object>"
      ]
     },
     "metadata": {},
     "output_type": "display_data"
    }
   ],
   "source": [
    "from IPython.display import display, Image\n",
    "display(Image(app.get_graph().draw_mermaid_png()))"
   ]
  },
  {
   "cell_type": "code",
   "execution_count": 16,
   "id": "1f9a7589",
   "metadata": {},
   "outputs": [],
   "source": [
    "result = app.invoke(AgentState(message=\"Gideon\"))"
   ]
  },
  {
   "cell_type": "code",
   "execution_count": 17,
   "id": "bb96f5b1",
   "metadata": {},
   "outputs": [
    {
     "data": {
      "text/plain": [
       "'Hey Gideon how is your day going?'"
      ]
     },
     "execution_count": 17,
     "metadata": {},
     "output_type": "execute_result"
    }
   ],
   "source": [
    "result[\"message\"]"
   ]
  },
  {
   "cell_type": "markdown",
   "id": "1e259293",
   "metadata": {},
   "source": [
    "# Test 2 (Exercise, Compliment Agent)"
   ]
  },
  {
   "cell_type": "code",
   "execution_count": 19,
   "id": "5b7bafe5",
   "metadata": {},
   "outputs": [
    {
     "name": "stdout",
     "output_type": "stream",
     "text": [
      "Gideon, you're doing an amazing job learning LangGraph!\n"
     ]
    }
   ],
   "source": [
    "from typing import TypedDict, Dict\n",
    "from langgraph.graph import StateGraph\n",
    "\n",
    "class StateAgent(TypedDict): # Defining Agent state for carry-forward\n",
    "    compliments: str\n",
    "    \n",
    "def complimenting_node(state:StateAgent) -> StateAgent:\n",
    "    \"\"\" Function to compliment the user \"\"\"\n",
    "    state[\"compliments\"] = state[\"compliments\"] + \",\" + \" you're doing an amazing job learning LangGraph!\"\n",
    "    \n",
    "    return state\n",
    "\n",
    "graph = StateGraph(StateAgent)\n",
    "\n",
    "graph.add_node(\"Complimenter\", complimenting_node)\n",
    "\n",
    "graph.set_entry_point(\"Complimenter\")\n",
    "graph.set_finish_point(\"Complimenter\")\n",
    "\n",
    "app = graph.compile()\n",
    "\n",
    "result = app.invoke(StateAgent(compliments=\"Gideon\"))\n",
    "\n",
    "print(result[\"compliments\"])\n",
    "\n",
    "    "
   ]
  },
  {
   "cell_type": "markdown",
   "id": "f2bacb28",
   "metadata": {},
   "source": [
    "# Offline LLM Test (Llama3.2 via Ollama)"
   ]
  },
  {
   "cell_type": "code",
   "execution_count": null,
   "id": "2c1783fd",
   "metadata": {},
   "outputs": [],
   "source": []
  }
 ],
 "metadata": {
  "kernelspec": {
   "display_name": "Gideon_Agent",
   "language": "python",
   "name": "python3"
  },
  "language_info": {
   "codemirror_mode": {
    "name": "ipython",
    "version": 3
   },
   "file_extension": ".py",
   "mimetype": "text/x-python",
   "name": "python",
   "nbconvert_exporter": "python",
   "pygments_lexer": "ipython3",
   "version": "3.13.3"
  }
 },
 "nbformat": 4,
 "nbformat_minor": 5
}
